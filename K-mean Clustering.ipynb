{
 "cells": [
  {
   "cell_type": "code",
   "execution_count": 1,
   "id": "286ccd9f",
   "metadata": {},
   "outputs": [],
   "source": [
    "import pandas as pd\n",
    "import numpy as np\n",
    "import matplotlib.pyplot as plt\n",
    "from sklearn.cluster import KMeans\n",
    "from sklearn.metrics import silhouette_score"
   ]
  },
  {
   "cell_type": "code",
   "execution_count": 2,
   "id": "22687ef0",
   "metadata": {},
   "outputs": [],
   "source": [
    "from sklearn.preprocessing import StandardScaler"
   ]
  },
  {
   "cell_type": "code",
   "execution_count": 3,
   "id": "7dac9a17",
   "metadata": {},
   "outputs": [],
   "source": [
    "path = \"C:/Users/Ansari Aaquib/Downloads/Clustering/Dataset/teenagemkt.csv\""
   ]
  },
  {
   "cell_type": "code",
   "execution_count": 4,
   "id": "d0843c1d",
   "metadata": {},
   "outputs": [],
   "source": [
    "data = pd.read_csv(path)"
   ]
  },
  {
   "cell_type": "code",
   "execution_count": 5,
   "id": "bfeb44c3",
   "metadata": {},
   "outputs": [
    {
     "name": "stdout",
     "output_type": "stream",
     "text": [
      "          age  friends  basketball  football  soccer  softball  volleyball  \\\n",
      "0      18.982        7           0         0       0         0           0   \n",
      "1      18.801        0           0         1       0         0           0   \n",
      "2      18.335       69           0         1       0         0           0   \n",
      "3      18.875        0           0         0       0         0           0   \n",
      "4      18.995       10           0         0       0         0           0   \n",
      "...       ...      ...         ...       ...     ...       ...         ...   \n",
      "29995  16.115        0           0         0       0         0           0   \n",
      "29996  15.792        1           0         1       0         0           0   \n",
      "29997  15.784        0           0         1       0         0           0   \n",
      "29998  16.378        0           0         0       0         0           0   \n",
      "29999  18.724        3           2         0       0         1           0   \n",
      "\n",
      "       swimming  cheerleading  baseball  ...  blonde  mall  shopping  clothes  \\\n",
      "0             0             0         0  ...       0     0         0        0   \n",
      "1             0             0         0  ...       0     1         0        0   \n",
      "2             0             0         0  ...       0     0         0        0   \n",
      "3             0             0         0  ...       0     0         0        0   \n",
      "4             0             0         0  ...       0     0         2        0   \n",
      "...         ...           ...       ...  ...     ...   ...       ...      ...   \n",
      "29995         0             0         0  ...       0     0         0        0   \n",
      "29996         0             0         0  ...       0     0         0        0   \n",
      "29997         0             0         1  ...       0     0         0        0   \n",
      "29998         0             0         0  ...       0     0         0        0   \n",
      "29999         0             0         0  ...       0     0         0        0   \n",
      "\n",
      "       hollister  abercrombie  die  death  drunk  drugs  \n",
      "0              0            0    0      0      0      0  \n",
      "1              0            0    0      0      0      0  \n",
      "2              0            0    0      1      0      0  \n",
      "3              0            0    0      0      0      0  \n",
      "4              0            0    0      0      1      1  \n",
      "...          ...          ...  ...    ...    ...    ...  \n",
      "29995          0            0    0      0      0      0  \n",
      "29996          0            0    0      0      0      0  \n",
      "29997          0            0    0      0      0      0  \n",
      "29998          0            0    0      0      0      0  \n",
      "29999          0            0    0      0      0      0  \n",
      "\n",
      "[30000 rows x 38 columns]\n"
     ]
    }
   ],
   "source": [
    "print(data)"
   ]
  },
  {
   "cell_type": "code",
   "execution_count": 6,
   "id": "a441b081",
   "metadata": {},
   "outputs": [
    {
     "name": "stdout",
     "output_type": "stream",
     "text": [
      "<class 'pandas.core.frame.DataFrame'>\n",
      "RangeIndex: 30000 entries, 0 to 29999\n",
      "Data columns (total 38 columns):\n",
      " #   Column        Non-Null Count  Dtype  \n",
      "---  ------        --------------  -----  \n",
      " 0   age           24914 non-null  float64\n",
      " 1   friends       30000 non-null  int64  \n",
      " 2   basketball    30000 non-null  int64  \n",
      " 3   football      30000 non-null  int64  \n",
      " 4   soccer        30000 non-null  int64  \n",
      " 5   softball      30000 non-null  int64  \n",
      " 6   volleyball    30000 non-null  int64  \n",
      " 7   swimming      30000 non-null  int64  \n",
      " 8   cheerleading  30000 non-null  int64  \n",
      " 9   baseball      30000 non-null  int64  \n",
      " 10  tennis        30000 non-null  int64  \n",
      " 11  sports        30000 non-null  int64  \n",
      " 12  cute          30000 non-null  int64  \n",
      " 13  sex           30000 non-null  int64  \n",
      " 14  sexy          30000 non-null  int64  \n",
      " 15  hot           30000 non-null  int64  \n",
      " 16  kissed        30000 non-null  int64  \n",
      " 17  dance         30000 non-null  int64  \n",
      " 18  band          30000 non-null  int64  \n",
      " 19  marching      30000 non-null  int64  \n",
      " 20  music         30000 non-null  int64  \n",
      " 21  rock          30000 non-null  int64  \n",
      " 22  god           30000 non-null  int64  \n",
      " 23  church        30000 non-null  int64  \n",
      " 24  jesus         30000 non-null  int64  \n",
      " 25  bible         30000 non-null  int64  \n",
      " 26  hair          30000 non-null  int64  \n",
      " 27  dress         30000 non-null  int64  \n",
      " 28  blonde        30000 non-null  int64  \n",
      " 29  mall          30000 non-null  int64  \n",
      " 30  shopping      30000 non-null  int64  \n",
      " 31  clothes       30000 non-null  int64  \n",
      " 32  hollister     30000 non-null  int64  \n",
      " 33  abercrombie   30000 non-null  int64  \n",
      " 34  die           30000 non-null  int64  \n",
      " 35  death         30000 non-null  int64  \n",
      " 36  drunk         30000 non-null  int64  \n",
      " 37  drugs         30000 non-null  int64  \n",
      "dtypes: float64(1), int64(37)\n",
      "memory usage: 8.7 MB\n"
     ]
    }
   ],
   "source": [
    "data.info()"
   ]
  },
  {
   "cell_type": "code",
   "execution_count": 7,
   "id": "64b9c8b3",
   "metadata": {},
   "outputs": [
    {
     "data": {
      "text/plain": [
       "age             5086\n",
       "friends            0\n",
       "basketball         0\n",
       "football           0\n",
       "soccer             0\n",
       "softball           0\n",
       "volleyball         0\n",
       "swimming           0\n",
       "cheerleading       0\n",
       "baseball           0\n",
       "tennis             0\n",
       "sports             0\n",
       "cute               0\n",
       "sex                0\n",
       "sexy               0\n",
       "hot                0\n",
       "kissed             0\n",
       "dance              0\n",
       "band               0\n",
       "marching           0\n",
       "music              0\n",
       "rock               0\n",
       "god                0\n",
       "church             0\n",
       "jesus              0\n",
       "bible              0\n",
       "hair               0\n",
       "dress              0\n",
       "blonde             0\n",
       "mall               0\n",
       "shopping           0\n",
       "clothes            0\n",
       "hollister          0\n",
       "abercrombie        0\n",
       "die                0\n",
       "death              0\n",
       "drunk              0\n",
       "drugs              0\n",
       "dtype: int64"
      ]
     },
     "execution_count": 7,
     "metadata": {},
     "output_type": "execute_result"
    }
   ],
   "source": [
    "data.isnull().sum()"
   ]
  },
  {
   "cell_type": "markdown",
   "id": "38906a8a",
   "metadata": {},
   "source": [
    "impute the null values\n"
   ]
  },
  {
   "cell_type": "code",
   "execution_count": 8,
   "id": "f1f26d75",
   "metadata": {},
   "outputs": [
    {
     "data": {
      "text/plain": [
       "count    24914.000000\n",
       "mean        17.993950\n",
       "std          7.858054\n",
       "min          3.086000\n",
       "25%         16.312000\n",
       "50%         17.287000\n",
       "75%         18.259000\n",
       "max        106.927000\n",
       "Name: age, dtype: float64"
      ]
     },
     "execution_count": 8,
     "metadata": {},
     "output_type": "execute_result"
    }
   ],
   "source": [
    "data.describe()['age']"
   ]
  },
  {
   "cell_type": "code",
   "execution_count": 11,
   "id": "fa714d60",
   "metadata": {},
   "outputs": [
    {
     "data": {
      "text/plain": [
       "24477"
      ]
     },
     "execution_count": 11,
     "metadata": {},
     "output_type": "execute_result"
    }
   ],
   "source": [
    "len(data[(data.age >= 13) & (data.age <=20)])"
   ]
  },
  {
   "cell_type": "code",
   "execution_count": 13,
   "id": "05d4919d",
   "metadata": {},
   "outputs": [],
   "source": [
    "teenage = data.age[(data.age >=13)&(data.age <=20)].describe()"
   ]
  },
  {
   "cell_type": "code",
   "execution_count": 14,
   "id": "bbda0d7c",
   "metadata": {},
   "outputs": [],
   "source": [
    "min_age = teenage['min']\n",
    "max_age = teenage['max']"
   ]
  },
  {
   "cell_type": "code",
   "execution_count": 15,
   "id": "d57334e0",
   "metadata": {},
   "outputs": [
    {
     "name": "stdout",
     "output_type": "stream",
     "text": [
      "13.027 19.995\n"
     ]
    }
   ],
   "source": [
    "print(min_age,max_age)"
   ]
  },
  {
   "cell_type": "code",
   "execution_count": 16,
   "id": "e39d5ca7",
   "metadata": {},
   "outputs": [],
   "source": [
    "ndx_null_age = data.age[data.age.isnull()].index"
   ]
  },
  {
   "cell_type": "code",
   "execution_count": 17,
   "id": "410a80f5",
   "metadata": {},
   "outputs": [
    {
     "data": {
      "text/plain": [
       "5086"
      ]
     },
     "execution_count": 17,
     "metadata": {},
     "output_type": "execute_result"
    }
   ],
   "source": [
    "len(ndx_null_age)"
   ]
  },
  {
   "cell_type": "code",
   "execution_count": 18,
   "id": "e116dfd2",
   "metadata": {},
   "outputs": [
    {
     "name": "stderr",
     "output_type": "stream",
     "text": [
      "<ipython-input-18-54a5b11003e8>:1: SettingWithCopyWarning: \n",
      "A value is trying to be set on a copy of a slice from a DataFrame\n",
      "\n",
      "See the caveats in the documentation: https://pandas.pydata.org/pandas-docs/stable/user_guide/indexing.html#returning-a-view-versus-a-copy\n",
      "  data.age[ndx_null_age] = np.round(np.random.uniform(min_age,max_age,len(ndx_null_age)),3)\n"
     ]
    }
   ],
   "source": [
    "data.age[ndx_null_age] = np.round(np.random.uniform(min_age,max_age,len(ndx_null_age)),3)"
   ]
  },
  {
   "cell_type": "code",
   "execution_count": 20,
   "id": "b7e2d481",
   "metadata": {},
   "outputs": [
    {
     "data": {
      "text/plain": [
       "0"
      ]
     },
     "execution_count": 20,
     "metadata": {},
     "output_type": "execute_result"
    }
   ],
   "source": [
    "data.age.isnull().sum()"
   ]
  },
  {
   "cell_type": "code",
   "execution_count": 21,
   "id": "a4bcb3f7",
   "metadata": {},
   "outputs": [
    {
     "data": {
      "text/plain": [
       "5        19.230\n",
       "13       16.106\n",
       "15       17.484\n",
       "16       14.377\n",
       "26       16.083\n",
       "          ...  \n",
       "29980    17.296\n",
       "29989    14.127\n",
       "29991    14.516\n",
       "29992    18.183\n",
       "29993    16.885\n",
       "Name: age, Length: 5086, dtype: float64"
      ]
     },
     "execution_count": 21,
     "metadata": {},
     "output_type": "execute_result"
    }
   ],
   "source": [
    "data.age[ndx_null_age]"
   ]
  },
  {
   "cell_type": "code",
   "execution_count": 22,
   "id": "1b184af1",
   "metadata": {},
   "outputs": [],
   "source": [
    "teendata = data[(data.age >=13) &  (data.age <=20)]"
   ]
  },
  {
   "cell_type": "code",
   "execution_count": 23,
   "id": "8b645085",
   "metadata": {},
   "outputs": [
    {
     "data": {
      "text/plain": [
       "29563"
      ]
     },
     "execution_count": 23,
     "metadata": {},
     "output_type": "execute_result"
    }
   ],
   "source": [
    "len(teendata)"
   ]
  },
  {
   "cell_type": "code",
   "execution_count": 24,
   "id": "fcd800bc",
   "metadata": {},
   "outputs": [
    {
     "data": {
      "text/plain": [
       "30000"
      ]
     },
     "execution_count": 24,
     "metadata": {},
     "output_type": "execute_result"
    }
   ],
   "source": [
    "len(data)"
   ]
  },
  {
   "cell_type": "code",
   "execution_count": 25,
   "id": "dba30495",
   "metadata": {},
   "outputs": [
    {
     "data": {
      "text/plain": [
       "437"
      ]
     },
     "execution_count": 25,
     "metadata": {},
     "output_type": "execute_result"
    }
   ],
   "source": [
    "30000 - 29563"
   ]
  },
  {
   "cell_type": "code",
   "execution_count": 26,
   "id": "4d7e4d5c",
   "metadata": {},
   "outputs": [
    {
     "data": {
      "text/plain": [
       "array([[<AxesSubplot:title={'center':'age'}>,\n",
       "        <AxesSubplot:title={'center':'friends'}>,\n",
       "        <AxesSubplot:title={'center':'basketball'}>,\n",
       "        <AxesSubplot:title={'center':'football'}>,\n",
       "        <AxesSubplot:title={'center':'soccer'}>,\n",
       "        <AxesSubplot:title={'center':'softball'}>],\n",
       "       [<AxesSubplot:title={'center':'volleyball'}>,\n",
       "        <AxesSubplot:title={'center':'swimming'}>,\n",
       "        <AxesSubplot:title={'center':'cheerleading'}>,\n",
       "        <AxesSubplot:title={'center':'baseball'}>,\n",
       "        <AxesSubplot:title={'center':'tennis'}>,\n",
       "        <AxesSubplot:title={'center':'sports'}>],\n",
       "       [<AxesSubplot:title={'center':'cute'}>,\n",
       "        <AxesSubplot:title={'center':'sex'}>,\n",
       "        <AxesSubplot:title={'center':'sexy'}>,\n",
       "        <AxesSubplot:title={'center':'hot'}>,\n",
       "        <AxesSubplot:title={'center':'kissed'}>,\n",
       "        <AxesSubplot:title={'center':'dance'}>],\n",
       "       [<AxesSubplot:title={'center':'band'}>,\n",
       "        <AxesSubplot:title={'center':'marching'}>,\n",
       "        <AxesSubplot:title={'center':'music'}>,\n",
       "        <AxesSubplot:title={'center':'rock'}>,\n",
       "        <AxesSubplot:title={'center':'god'}>,\n",
       "        <AxesSubplot:title={'center':'church'}>],\n",
       "       [<AxesSubplot:title={'center':'jesus'}>,\n",
       "        <AxesSubplot:title={'center':'bible'}>,\n",
       "        <AxesSubplot:title={'center':'hair'}>,\n",
       "        <AxesSubplot:title={'center':'dress'}>,\n",
       "        <AxesSubplot:title={'center':'blonde'}>,\n",
       "        <AxesSubplot:title={'center':'mall'}>],\n",
       "       [<AxesSubplot:title={'center':'shopping'}>,\n",
       "        <AxesSubplot:title={'center':'clothes'}>,\n",
       "        <AxesSubplot:title={'center':'hollister'}>,\n",
       "        <AxesSubplot:title={'center':'abercrombie'}>,\n",
       "        <AxesSubplot:title={'center':'die'}>,\n",
       "        <AxesSubplot:title={'center':'death'}>],\n",
       "       [<AxesSubplot:title={'center':'drunk'}>,\n",
       "        <AxesSubplot:title={'center':'drugs'}>, <AxesSubplot:>,\n",
       "        <AxesSubplot:>, <AxesSubplot:>, <AxesSubplot:>]], dtype=object)"
      ]
     },
     "execution_count": 26,
     "metadata": {},
     "output_type": "execute_result"
    },
    {
     "data": {
      "image/png": "[encoded data removed]",
      "text/plain": [
       "<Figure size 1728x1728 with 42 Axes>"
      ]
     },
     "metadata": {
      "needs_background": "light"
     },
     "output_type": "display_data"
    }
   ],
   "source": [
    "teendata.hist(figsize=(24,24))"
   ]
  },
  {
   "cell_type": "code",
   "execution_count": 34,
   "id": "98beddcf",
   "metadata": {},
   "outputs": [],
   "source": [
    "teendata = teendata.drop('friends', axis=1)"
   ]
  },
  {
   "cell_type": "code",
   "execution_count": 35,
   "id": "2c06876c",
   "metadata": {},
   "outputs": [
    {
     "data": {
      "text/plain": [
       "Index(['basketball', 'football', 'soccer', 'softball', 'volleyball',\n",
       "       'swimming', 'cheerleading', 'baseball', 'tennis', 'sports', 'cute',\n",
       "       'sex', 'sexy', 'hot', 'kissed', 'dance', 'band', 'marching', 'music',\n",
       "       'rock', 'god', 'church', 'jesus', 'bible', 'hair', 'dress', 'blonde',\n",
       "       'mall', 'shopping', 'clothes', 'hollister', 'abercrombie', 'die',\n",
       "       'death', 'drunk', 'drugs'],\n",
       "      dtype='object')"
      ]
     },
     "execution_count": 35,
     "metadata": {},
     "output_type": "execute_result"
    }
   ],
   "source": [
    "teendata.columns"
   ]
  },
  {
   "cell_type": "code",
   "execution_count": 37,
   "id": "07fe8cb9",
   "metadata": {},
   "outputs": [],
   "source": [
    "eca = ['basketball', 'football', 'soccer', 'softball', 'volleyball',\n",
    "       'swimming', 'cheerleading', 'baseball', 'tennis', 'sports','dance','band', 'marching', 'music','rock']"
   ]
  },
  {
   "cell_type": "code",
   "execution_count": 38,
   "id": "a2e1485e",
   "metadata": {},
   "outputs": [],
   "source": [
    "fashion = ['hair', 'dress', 'blonde',\n",
    "       'mall', 'shopping', 'clothes', 'hollister', 'abercrombie']\n",
    "religion = ['god', 'church', 'jesus', 'bible','die',\n",
    "       'death']\n",
    "romance = ['cute',\n",
    "       'sex', 'sexy', 'hot', 'kissed']\n",
    "asb = ['drunk', 'drugs']"
   ]
  },
  {
   "cell_type": "code",
   "execution_count": 39,
   "id": "d89c2835",
   "metadata": {},
   "outputs": [
    {
     "data": {
      "text/plain": [
       "15"
      ]
     },
     "execution_count": 39,
     "metadata": {},
     "output_type": "execute_result"
    }
   ],
   "source": [
    "len(eca)"
   ]
  },
  {
   "cell_type": "code",
   "execution_count": 40,
   "id": "11145b30",
   "metadata": {},
   "outputs": [
    {
     "data": {
      "text/plain": [
       "8"
      ]
     },
     "execution_count": 40,
     "metadata": {},
     "output_type": "execute_result"
    }
   ],
   "source": [
    "len(fashion)"
   ]
  },
  {
   "cell_type": "code",
   "execution_count": 41,
   "id": "2be06257",
   "metadata": {},
   "outputs": [
    {
     "data": {
      "text/plain": [
       "5"
      ]
     },
     "execution_count": 41,
     "metadata": {},
     "output_type": "execute_result"
    }
   ],
   "source": [
    "len(romance)"
   ]
  },
  {
   "cell_type": "code",
   "execution_count": 42,
   "id": "ad356042",
   "metadata": {},
   "outputs": [
    {
     "data": {
      "text/plain": [
       "2"
      ]
     },
     "execution_count": 42,
     "metadata": {},
     "output_type": "execute_result"
    }
   ],
   "source": [
    "len(asb)"
   ]
  },
  {
   "cell_type": "code",
   "execution_count": 43,
   "id": "f7d6ccbd",
   "metadata": {},
   "outputs": [
    {
     "data": {
      "text/plain": [
       "6"
      ]
     },
     "execution_count": 43,
     "metadata": {},
     "output_type": "execute_result"
    }
   ],
   "source": [
    "len(religion)"
   ]
  },
  {
   "cell_type": "code",
   "execution_count": 44,
   "id": "ca4c2eed",
   "metadata": {},
   "outputs": [],
   "source": [
    "teendata_std = teendata.copy()"
   ]
  },
  {
   "cell_type": "code",
   "execution_count": 45,
   "id": "1a994f13",
   "metadata": {},
   "outputs": [],
   "source": [
    "ss = StandardScaler()\n"
   ]
  },
  {
   "cell_type": "code",
   "execution_count": 46,
   "id": "dc4cb1c0",
   "metadata": {},
   "outputs": [],
   "source": [
    "scale = ss.fit_transform(teendata_std.iloc[:,:])"
   ]
  },
  {
   "cell_type": "code",
   "execution_count": 47,
   "id": "9bea6ac6",
   "metadata": {},
   "outputs": [],
   "source": [
    "teendata_std.iloc[:,:] =scale"
   ]
  },
  {
   "cell_type": "code",
   "execution_count": 48,
   "id": "85c428cf",
   "metadata": {},
   "outputs": [
    {
     "data": {
      "text/html": [
       "<div>\n",
       "<style scoped>\n",
       "    .dataframe tbody tr th:only-of-type {\n",
       "        vertical-align: middle;\n",
       "    }\n",
       "\n",
       "    .dataframe tbody tr th {\n",
       "        vertical-align: top;\n",
       "    }\n",
       "\n",
       "    .dataframe thead th {\n",
       "        text-align: right;\n",
       "    }\n",
       "</style>\n",
       "<table border=\"1\" class=\"dataframe\">\n",
       "  <thead>\n",
       "    <tr style=\"text-align: right;\">\n",
       "      <th></th>\n",
       "      <th>basketball</th>\n",
       "      <th>football</th>\n",
       "      <th>soccer</th>\n",
       "      <th>softball</th>\n",
       "      <th>volleyball</th>\n",
       "      <th>swimming</th>\n",
       "      <th>cheerleading</th>\n",
       "      <th>baseball</th>\n",
       "      <th>tennis</th>\n",
       "      <th>sports</th>\n",
       "      <th>...</th>\n",
       "      <th>blonde</th>\n",
       "      <th>mall</th>\n",
       "      <th>shopping</th>\n",
       "      <th>clothes</th>\n",
       "      <th>hollister</th>\n",
       "      <th>abercrombie</th>\n",
       "      <th>die</th>\n",
       "      <th>death</th>\n",
       "      <th>drunk</th>\n",
       "      <th>drugs</th>\n",
       "    </tr>\n",
       "  </thead>\n",
       "  <tbody>\n",
       "    <tr>\n",
       "      <th>0</th>\n",
       "      <td>0</td>\n",
       "      <td>0</td>\n",
       "      <td>0</td>\n",
       "      <td>0</td>\n",
       "      <td>0</td>\n",
       "      <td>0</td>\n",
       "      <td>0</td>\n",
       "      <td>0</td>\n",
       "      <td>0</td>\n",
       "      <td>0</td>\n",
       "      <td>...</td>\n",
       "      <td>0</td>\n",
       "      <td>0</td>\n",
       "      <td>0</td>\n",
       "      <td>0</td>\n",
       "      <td>0</td>\n",
       "      <td>0</td>\n",
       "      <td>0</td>\n",
       "      <td>0</td>\n",
       "      <td>0</td>\n",
       "      <td>0</td>\n",
       "    </tr>\n",
       "    <tr>\n",
       "      <th>1</th>\n",
       "      <td>0</td>\n",
       "      <td>1</td>\n",
       "      <td>0</td>\n",
       "      <td>0</td>\n",
       "      <td>0</td>\n",
       "      <td>0</td>\n",
       "      <td>0</td>\n",
       "      <td>0</td>\n",
       "      <td>0</td>\n",
       "      <td>0</td>\n",
       "      <td>...</td>\n",
       "      <td>0</td>\n",
       "      <td>1</td>\n",
       "      <td>0</td>\n",
       "      <td>0</td>\n",
       "      <td>0</td>\n",
       "      <td>0</td>\n",
       "      <td>0</td>\n",
       "      <td>0</td>\n",
       "      <td>0</td>\n",
       "      <td>0</td>\n",
       "    </tr>\n",
       "    <tr>\n",
       "      <th>2</th>\n",
       "      <td>0</td>\n",
       "      <td>1</td>\n",
       "      <td>0</td>\n",
       "      <td>0</td>\n",
       "      <td>0</td>\n",
       "      <td>0</td>\n",
       "      <td>0</td>\n",
       "      <td>0</td>\n",
       "      <td>0</td>\n",
       "      <td>0</td>\n",
       "      <td>...</td>\n",
       "      <td>0</td>\n",
       "      <td>0</td>\n",
       "      <td>0</td>\n",
       "      <td>0</td>\n",
       "      <td>0</td>\n",
       "      <td>0</td>\n",
       "      <td>0</td>\n",
       "      <td>1</td>\n",
       "      <td>0</td>\n",
       "      <td>0</td>\n",
       "    </tr>\n",
       "    <tr>\n",
       "      <th>3</th>\n",
       "      <td>0</td>\n",
       "      <td>0</td>\n",
       "      <td>0</td>\n",
       "      <td>0</td>\n",
       "      <td>0</td>\n",
       "      <td>0</td>\n",
       "      <td>0</td>\n",
       "      <td>0</td>\n",
       "      <td>0</td>\n",
       "      <td>0</td>\n",
       "      <td>...</td>\n",
       "      <td>0</td>\n",
       "      <td>0</td>\n",
       "      <td>0</td>\n",
       "      <td>0</td>\n",
       "      <td>0</td>\n",
       "      <td>0</td>\n",
       "      <td>0</td>\n",
       "      <td>0</td>\n",
       "      <td>0</td>\n",
       "      <td>0</td>\n",
       "    </tr>\n",
       "    <tr>\n",
       "      <th>4</th>\n",
       "      <td>0</td>\n",
       "      <td>0</td>\n",
       "      <td>0</td>\n",
       "      <td>0</td>\n",
       "      <td>0</td>\n",
       "      <td>0</td>\n",
       "      <td>0</td>\n",
       "      <td>0</td>\n",
       "      <td>0</td>\n",
       "      <td>0</td>\n",
       "      <td>...</td>\n",
       "      <td>0</td>\n",
       "      <td>0</td>\n",
       "      <td>2</td>\n",
       "      <td>0</td>\n",
       "      <td>0</td>\n",
       "      <td>0</td>\n",
       "      <td>0</td>\n",
       "      <td>0</td>\n",
       "      <td>1</td>\n",
       "      <td>1</td>\n",
       "    </tr>\n",
       "  </tbody>\n",
       "</table>\n",
       "<p>5 rows × 36 columns</p>\n",
       "</div>"
      ],
      "text/plain": [
       "   basketball  football  soccer  softball  volleyball  swimming  cheerleading  \\\n",
       "0           0         0       0         0           0         0             0   \n",
       "1           0         1       0         0           0         0             0   \n",
       "2           0         1       0         0           0         0             0   \n",
       "3           0         0       0         0           0         0             0   \n",
       "4           0         0       0         0           0         0             0   \n",
       "\n",
       "   baseball  tennis  sports  ...  blonde  mall  shopping  clothes  hollister  \\\n",
       "0         0       0       0  ...       0     0         0        0          0   \n",
       "1         0       0       0  ...       0     1         0        0          0   \n",
       "2         0       0       0  ...       0     0         0        0          0   \n",
       "3         0       0       0  ...       0     0         0        0          0   \n",
       "4         0       0       0  ...       0     0         2        0          0   \n",
       "\n",
       "   abercrombie  die  death  drunk  drugs  \n",
       "0            0    0      0      0      0  \n",
       "1            0    0      0      0      0  \n",
       "2            0    0      1      0      0  \n",
       "3            0    0      0      0      0  \n",
       "4            0    0      0      1      1  \n",
       "\n",
       "[5 rows x 36 columns]"
      ]
     },
     "execution_count": 48,
     "metadata": {},
     "output_type": "execute_result"
    }
   ],
   "source": [
    "teendata.head()"
   ]
  },
  {
   "cell_type": "code",
   "execution_count": 49,
   "id": "563b5175",
   "metadata": {},
   "outputs": [
    {
     "data": {
      "text/html": [
       "<div>\n",
       "<style scoped>\n",
       "    .dataframe tbody tr th:only-of-type {\n",
       "        vertical-align: middle;\n",
       "    }\n",
       "\n",
       "    .dataframe tbody tr th {\n",
       "        vertical-align: top;\n",
       "    }\n",
       "\n",
       "    .dataframe thead th {\n",
       "        text-align: right;\n",
       "    }\n",
       "</style>\n",
       "<table border=\"1\" class=\"dataframe\">\n",
       "  <thead>\n",
       "    <tr style=\"text-align: right;\">\n",
       "      <th></th>\n",
       "      <th>basketball</th>\n",
       "      <th>football</th>\n",
       "      <th>soccer</th>\n",
       "      <th>softball</th>\n",
       "      <th>volleyball</th>\n",
       "      <th>swimming</th>\n",
       "      <th>cheerleading</th>\n",
       "      <th>baseball</th>\n",
       "      <th>tennis</th>\n",
       "      <th>sports</th>\n",
       "      <th>...</th>\n",
       "      <th>blonde</th>\n",
       "      <th>mall</th>\n",
       "      <th>shopping</th>\n",
       "      <th>clothes</th>\n",
       "      <th>hollister</th>\n",
       "      <th>abercrombie</th>\n",
       "      <th>die</th>\n",
       "      <th>death</th>\n",
       "      <th>drunk</th>\n",
       "      <th>drugs</th>\n",
       "    </tr>\n",
       "  </thead>\n",
       "  <tbody>\n",
       "    <tr>\n",
       "      <th>0</th>\n",
       "      <td>-0.332775</td>\n",
       "      <td>-0.359146</td>\n",
       "      <td>-0.242711</td>\n",
       "      <td>-0.218757</td>\n",
       "      <td>-0.22398</td>\n",
       "      <td>-0.260105</td>\n",
       "      <td>-0.208203</td>\n",
       "      <td>-0.201758</td>\n",
       "      <td>-0.168751</td>\n",
       "      <td>-0.299183</td>\n",
       "      <td>...</td>\n",
       "      <td>-0.050725</td>\n",
       "      <td>-0.370724</td>\n",
       "      <td>-0.488959</td>\n",
       "      <td>-0.315155</td>\n",
       "      <td>-0.20161</td>\n",
       "      <td>-0.183484</td>\n",
       "      <td>-0.294405</td>\n",
       "      <td>-0.261731</td>\n",
       "      <td>-0.220493</td>\n",
       "      <td>-0.175322</td>\n",
       "    </tr>\n",
       "    <tr>\n",
       "      <th>1</th>\n",
       "      <td>-0.332775</td>\n",
       "      <td>1.054437</td>\n",
       "      <td>-0.242711</td>\n",
       "      <td>-0.218757</td>\n",
       "      <td>-0.22398</td>\n",
       "      <td>-0.260105</td>\n",
       "      <td>-0.208203</td>\n",
       "      <td>-0.201758</td>\n",
       "      <td>-0.168751</td>\n",
       "      <td>-0.299183</td>\n",
       "      <td>...</td>\n",
       "      <td>-0.050725</td>\n",
       "      <td>1.062104</td>\n",
       "      <td>-0.488959</td>\n",
       "      <td>-0.315155</td>\n",
       "      <td>-0.20161</td>\n",
       "      <td>-0.183484</td>\n",
       "      <td>-0.294405</td>\n",
       "      <td>-0.261731</td>\n",
       "      <td>-0.220493</td>\n",
       "      <td>-0.175322</td>\n",
       "    </tr>\n",
       "    <tr>\n",
       "      <th>2</th>\n",
       "      <td>-0.332775</td>\n",
       "      <td>1.054437</td>\n",
       "      <td>-0.242711</td>\n",
       "      <td>-0.218757</td>\n",
       "      <td>-0.22398</td>\n",
       "      <td>-0.260105</td>\n",
       "      <td>-0.208203</td>\n",
       "      <td>-0.201758</td>\n",
       "      <td>-0.168751</td>\n",
       "      <td>-0.299183</td>\n",
       "      <td>...</td>\n",
       "      <td>-0.050725</td>\n",
       "      <td>-0.370724</td>\n",
       "      <td>-0.488959</td>\n",
       "      <td>-0.315155</td>\n",
       "      <td>-0.20161</td>\n",
       "      <td>-0.183484</td>\n",
       "      <td>-0.294405</td>\n",
       "      <td>2.020056</td>\n",
       "      <td>-0.220493</td>\n",
       "      <td>-0.175322</td>\n",
       "    </tr>\n",
       "    <tr>\n",
       "      <th>3</th>\n",
       "      <td>-0.332775</td>\n",
       "      <td>-0.359146</td>\n",
       "      <td>-0.242711</td>\n",
       "      <td>-0.218757</td>\n",
       "      <td>-0.22398</td>\n",
       "      <td>-0.260105</td>\n",
       "      <td>-0.208203</td>\n",
       "      <td>-0.201758</td>\n",
       "      <td>-0.168751</td>\n",
       "      <td>-0.299183</td>\n",
       "      <td>...</td>\n",
       "      <td>-0.050725</td>\n",
       "      <td>-0.370724</td>\n",
       "      <td>-0.488959</td>\n",
       "      <td>-0.315155</td>\n",
       "      <td>-0.20161</td>\n",
       "      <td>-0.183484</td>\n",
       "      <td>-0.294405</td>\n",
       "      <td>-0.261731</td>\n",
       "      <td>-0.220493</td>\n",
       "      <td>-0.175322</td>\n",
       "    </tr>\n",
       "    <tr>\n",
       "      <th>4</th>\n",
       "      <td>-0.332775</td>\n",
       "      <td>-0.359146</td>\n",
       "      <td>-0.242711</td>\n",
       "      <td>-0.218757</td>\n",
       "      <td>-0.22398</td>\n",
       "      <td>-0.260105</td>\n",
       "      <td>-0.208203</td>\n",
       "      <td>-0.201758</td>\n",
       "      <td>-0.168751</td>\n",
       "      <td>-0.299183</td>\n",
       "      <td>...</td>\n",
       "      <td>-0.050725</td>\n",
       "      <td>-0.370724</td>\n",
       "      <td>2.262820</td>\n",
       "      <td>-0.315155</td>\n",
       "      <td>-0.20161</td>\n",
       "      <td>-0.183484</td>\n",
       "      <td>-0.294405</td>\n",
       "      <td>-0.261731</td>\n",
       "      <td>2.281789</td>\n",
       "      <td>2.733228</td>\n",
       "    </tr>\n",
       "  </tbody>\n",
       "</table>\n",
       "<p>5 rows × 36 columns</p>\n",
       "</div>"
      ],
      "text/plain": [
       "   basketball  football    soccer  softball  volleyball  swimming  \\\n",
       "0   -0.332775 -0.359146 -0.242711 -0.218757    -0.22398 -0.260105   \n",
       "1   -0.332775  1.054437 -0.242711 -0.218757    -0.22398 -0.260105   \n",
       "2   -0.332775  1.054437 -0.242711 -0.218757    -0.22398 -0.260105   \n",
       "3   -0.332775 -0.359146 -0.242711 -0.218757    -0.22398 -0.260105   \n",
       "4   -0.332775 -0.359146 -0.242711 -0.218757    -0.22398 -0.260105   \n",
       "\n",
       "   cheerleading  baseball    tennis    sports  ...    blonde      mall  \\\n",
       "0     -0.208203 -0.201758 -0.168751 -0.299183  ... -0.050725 -0.370724   \n",
       "1     -0.208203 -0.201758 -0.168751 -0.299183  ... -0.050725  1.062104   \n",
       "2     -0.208203 -0.201758 -0.168751 -0.299183  ... -0.050725 -0.370724   \n",
       "3     -0.208203 -0.201758 -0.168751 -0.299183  ... -0.050725 -0.370724   \n",
       "4     -0.208203 -0.201758 -0.168751 -0.299183  ... -0.050725 -0.370724   \n",
       "\n",
       "   shopping   clothes  hollister  abercrombie       die     death     drunk  \\\n",
       "0 -0.488959 -0.315155   -0.20161    -0.183484 -0.294405 -0.261731 -0.220493   \n",
       "1 -0.488959 -0.315155   -0.20161    -0.183484 -0.294405 -0.261731 -0.220493   \n",
       "2 -0.488959 -0.315155   -0.20161    -0.183484 -0.294405  2.020056 -0.220493   \n",
       "3 -0.488959 -0.315155   -0.20161    -0.183484 -0.294405 -0.261731 -0.220493   \n",
       "4  2.262820 -0.315155   -0.20161    -0.183484 -0.294405 -0.261731  2.281789   \n",
       "\n",
       "      drugs  \n",
       "0 -0.175322  \n",
       "1 -0.175322  \n",
       "2 -0.175322  \n",
       "3 -0.175322  \n",
       "4  2.733228  \n",
       "\n",
       "[5 rows x 36 columns]"
      ]
     },
     "execution_count": 49,
     "metadata": {},
     "output_type": "execute_result"
    }
   ],
   "source": [
    "teendata_std.head()"
   ]
  },
  {
   "cell_type": "code",
   "execution_count": 52,
   "id": "79afbc48",
   "metadata": {},
   "outputs": [],
   "source": [
    "def createclusters(data):\n",
    "    wcss = []\n",
    "    silhscore = []\n",
    "\n",
    "    k_list = range(2,11)\n",
    "    for k in k_list:\n",
    "        model = KMeans(n_clusters=k).fit(data)\n",
    "        \n",
    "        wcss.append(model.inertia_)\n",
    "        \n",
    "        cluster = model.fit_predict(data)\n",
    "        s_score = silhouette_score(data,cluster)\n",
    "        silhscore.append(s_score)\n",
    "    return(k_list,wcss,silhscore)\n",
    "        "
   ]
  },
  {
   "cell_type": "code",
   "execution_count": 53,
   "id": "0b86b2bb",
   "metadata": {},
   "outputs": [],
   "source": [
    "lst_cluster,lst_wcss,lst_silhscore = createclusters(teendata_std)"
   ]
  },
  {
   "cell_type": "code",
   "execution_count": 55,
   "id": "2cd3b5db",
   "metadata": {},
   "outputs": [
    {
     "name": "stdout",
     "output_type": "stream",
     "text": [
      "range(2, 11)\n",
      "[1008866.6830690587, 979628.0226190328, 950942.6440224976, 924999.8456905282, 900126.4606477717, 879387.5128793854, 866032.4282289096, 842669.7065217608, 827920.4407612779]\n",
      "[0.4220369460970457, 0.32313637155651337, 0.3250171862622663, 0.30813083024387966, 0.2973570874369788, 0.26950259722321623, 0.2526357119673263, 0.24724486762891276, 0.23991738536449328]\n"
     ]
    }
   ],
   "source": [
    "print(lst_cluster)\n",
    "print(lst_wcss)\n",
    "print(lst_silhscore)"
   ]
  },
  {
   "cell_type": "code",
   "execution_count": 56,
   "id": "42abe5a4",
   "metadata": {},
   "outputs": [
    {
     "data": {
      "text/plain": [
       "Text(0, 0.5, 'Silhouette Score')"
      ]
     },
     "execution_count": 56,
     "metadata": {},
     "output_type": "execute_result"
    },
    {
     "data": {
      "image/png": "[encoded data removed]",
      "text/plain": [
       "<Figure size 432x288 with 1 Axes>"
      ]
     },
     "metadata": {
      "needs_background": "light"
     },
     "output_type": "display_data"
    }
   ],
   "source": [
    "plt.plot(lst_cluster,lst_silhscore)\n",
    "plt.title(\"Cluster vs Silhouette Score\")\n",
    "plt.xlabel(\"Cluster\")\n",
    "plt.ylabel(\"Silhouette Score\")"
   ]
  },
  {
   "cell_type": "code",
   "execution_count": 57,
   "id": "97b92662",
   "metadata": {},
   "outputs": [
    {
     "data": {
      "text/plain": [
       "array([0, 1, 0, ..., 0, 0, 0])"
      ]
     },
     "execution_count": 57,
     "metadata": {},
     "output_type": "execute_result"
    }
   ],
   "source": [
    "optk = 2\n",
    "model = KMeans(n_clusters=optk).fit(teendata_std)\n",
    "cluster = model.labels_\n",
    "cluster\n"
   ]
  },
  {
   "cell_type": "code",
   "execution_count": 59,
   "id": "da8bd614",
   "metadata": {},
   "outputs": [
    {
     "data": {
      "text/html": [
       "<div>\n",
       "<style scoped>\n",
       "    .dataframe tbody tr th:only-of-type {\n",
       "        vertical-align: middle;\n",
       "    }\n",
       "\n",
       "    .dataframe tbody tr th {\n",
       "        vertical-align: top;\n",
       "    }\n",
       "\n",
       "    .dataframe thead th {\n",
       "        text-align: right;\n",
       "    }\n",
       "</style>\n",
       "<table border=\"1\" class=\"dataframe\">\n",
       "  <thead>\n",
       "    <tr style=\"text-align: right;\">\n",
       "      <th></th>\n",
       "      <th>basketball</th>\n",
       "      <th>football</th>\n",
       "      <th>soccer</th>\n",
       "      <th>softball</th>\n",
       "      <th>volleyball</th>\n",
       "      <th>swimming</th>\n",
       "      <th>cheerleading</th>\n",
       "      <th>baseball</th>\n",
       "      <th>tennis</th>\n",
       "      <th>sports</th>\n",
       "      <th>...</th>\n",
       "      <th>mall</th>\n",
       "      <th>shopping</th>\n",
       "      <th>clothes</th>\n",
       "      <th>hollister</th>\n",
       "      <th>abercrombie</th>\n",
       "      <th>die</th>\n",
       "      <th>death</th>\n",
       "      <th>drunk</th>\n",
       "      <th>drugs</th>\n",
       "      <th>cluster</th>\n",
       "    </tr>\n",
       "  </thead>\n",
       "  <tbody>\n",
       "    <tr>\n",
       "      <th>0</th>\n",
       "      <td>-0.332775</td>\n",
       "      <td>-0.359146</td>\n",
       "      <td>-0.242711</td>\n",
       "      <td>-0.218757</td>\n",
       "      <td>-0.22398</td>\n",
       "      <td>-0.260105</td>\n",
       "      <td>-0.208203</td>\n",
       "      <td>-0.201758</td>\n",
       "      <td>-0.168751</td>\n",
       "      <td>-0.299183</td>\n",
       "      <td>...</td>\n",
       "      <td>-0.370724</td>\n",
       "      <td>-0.488959</td>\n",
       "      <td>-0.315155</td>\n",
       "      <td>-0.20161</td>\n",
       "      <td>-0.183484</td>\n",
       "      <td>-0.294405</td>\n",
       "      <td>-0.261731</td>\n",
       "      <td>-0.220493</td>\n",
       "      <td>-0.175322</td>\n",
       "      <td>0</td>\n",
       "    </tr>\n",
       "    <tr>\n",
       "      <th>1</th>\n",
       "      <td>-0.332775</td>\n",
       "      <td>1.054437</td>\n",
       "      <td>-0.242711</td>\n",
       "      <td>-0.218757</td>\n",
       "      <td>-0.22398</td>\n",
       "      <td>-0.260105</td>\n",
       "      <td>-0.208203</td>\n",
       "      <td>-0.201758</td>\n",
       "      <td>-0.168751</td>\n",
       "      <td>-0.299183</td>\n",
       "      <td>...</td>\n",
       "      <td>1.062104</td>\n",
       "      <td>-0.488959</td>\n",
       "      <td>-0.315155</td>\n",
       "      <td>-0.20161</td>\n",
       "      <td>-0.183484</td>\n",
       "      <td>-0.294405</td>\n",
       "      <td>-0.261731</td>\n",
       "      <td>-0.220493</td>\n",
       "      <td>-0.175322</td>\n",
       "      <td>1</td>\n",
       "    </tr>\n",
       "    <tr>\n",
       "      <th>2</th>\n",
       "      <td>-0.332775</td>\n",
       "      <td>1.054437</td>\n",
       "      <td>-0.242711</td>\n",
       "      <td>-0.218757</td>\n",
       "      <td>-0.22398</td>\n",
       "      <td>-0.260105</td>\n",
       "      <td>-0.208203</td>\n",
       "      <td>-0.201758</td>\n",
       "      <td>-0.168751</td>\n",
       "      <td>-0.299183</td>\n",
       "      <td>...</td>\n",
       "      <td>-0.370724</td>\n",
       "      <td>-0.488959</td>\n",
       "      <td>-0.315155</td>\n",
       "      <td>-0.20161</td>\n",
       "      <td>-0.183484</td>\n",
       "      <td>-0.294405</td>\n",
       "      <td>2.020056</td>\n",
       "      <td>-0.220493</td>\n",
       "      <td>-0.175322</td>\n",
       "      <td>0</td>\n",
       "    </tr>\n",
       "    <tr>\n",
       "      <th>3</th>\n",
       "      <td>-0.332775</td>\n",
       "      <td>-0.359146</td>\n",
       "      <td>-0.242711</td>\n",
       "      <td>-0.218757</td>\n",
       "      <td>-0.22398</td>\n",
       "      <td>-0.260105</td>\n",
       "      <td>-0.208203</td>\n",
       "      <td>-0.201758</td>\n",
       "      <td>-0.168751</td>\n",
       "      <td>-0.299183</td>\n",
       "      <td>...</td>\n",
       "      <td>-0.370724</td>\n",
       "      <td>-0.488959</td>\n",
       "      <td>-0.315155</td>\n",
       "      <td>-0.20161</td>\n",
       "      <td>-0.183484</td>\n",
       "      <td>-0.294405</td>\n",
       "      <td>-0.261731</td>\n",
       "      <td>-0.220493</td>\n",
       "      <td>-0.175322</td>\n",
       "      <td>0</td>\n",
       "    </tr>\n",
       "    <tr>\n",
       "      <th>4</th>\n",
       "      <td>-0.332775</td>\n",
       "      <td>-0.359146</td>\n",
       "      <td>-0.242711</td>\n",
       "      <td>-0.218757</td>\n",
       "      <td>-0.22398</td>\n",
       "      <td>-0.260105</td>\n",
       "      <td>-0.208203</td>\n",
       "      <td>-0.201758</td>\n",
       "      <td>-0.168751</td>\n",
       "      <td>-0.299183</td>\n",
       "      <td>...</td>\n",
       "      <td>-0.370724</td>\n",
       "      <td>2.262820</td>\n",
       "      <td>-0.315155</td>\n",
       "      <td>-0.20161</td>\n",
       "      <td>-0.183484</td>\n",
       "      <td>-0.294405</td>\n",
       "      <td>-0.261731</td>\n",
       "      <td>2.281789</td>\n",
       "      <td>2.733228</td>\n",
       "      <td>1</td>\n",
       "    </tr>\n",
       "  </tbody>\n",
       "</table>\n",
       "<p>5 rows × 37 columns</p>\n",
       "</div>"
      ],
      "text/plain": [
       "   basketball  football    soccer  softball  volleyball  swimming  \\\n",
       "0   -0.332775 -0.359146 -0.242711 -0.218757    -0.22398 -0.260105   \n",
       "1   -0.332775  1.054437 -0.242711 -0.218757    -0.22398 -0.260105   \n",
       "2   -0.332775  1.054437 -0.242711 -0.218757    -0.22398 -0.260105   \n",
       "3   -0.332775 -0.359146 -0.242711 -0.218757    -0.22398 -0.260105   \n",
       "4   -0.332775 -0.359146 -0.242711 -0.218757    -0.22398 -0.260105   \n",
       "\n",
       "   cheerleading  baseball    tennis    sports  ...      mall  shopping  \\\n",
       "0     -0.208203 -0.201758 -0.168751 -0.299183  ... -0.370724 -0.488959   \n",
       "1     -0.208203 -0.201758 -0.168751 -0.299183  ...  1.062104 -0.488959   \n",
       "2     -0.208203 -0.201758 -0.168751 -0.299183  ... -0.370724 -0.488959   \n",
       "3     -0.208203 -0.201758 -0.168751 -0.299183  ... -0.370724 -0.488959   \n",
       "4     -0.208203 -0.201758 -0.168751 -0.299183  ... -0.370724  2.262820   \n",
       "\n",
       "    clothes  hollister  abercrombie       die     death     drunk     drugs  \\\n",
       "0 -0.315155   -0.20161    -0.183484 -0.294405 -0.261731 -0.220493 -0.175322   \n",
       "1 -0.315155   -0.20161    -0.183484 -0.294405 -0.261731 -0.220493 -0.175322   \n",
       "2 -0.315155   -0.20161    -0.183484 -0.294405  2.020056 -0.220493 -0.175322   \n",
       "3 -0.315155   -0.20161    -0.183484 -0.294405 -0.261731 -0.220493 -0.175322   \n",
       "4 -0.315155   -0.20161    -0.183484 -0.294405 -0.261731  2.281789  2.733228   \n",
       "\n",
       "   cluster  \n",
       "0        0  \n",
       "1        1  \n",
       "2        0  \n",
       "3        0  \n",
       "4        1  \n",
       "\n",
       "[5 rows x 37 columns]"
      ]
     },
     "execution_count": 59,
     "metadata": {},
     "output_type": "execute_result"
    }
   ],
   "source": [
    "teendata_std['cluster'] = cluster\n",
    "teendata_std.head()"
   ]
  },
  {
   "cell_type": "code",
   "execution_count": 60,
   "id": "e47db973",
   "metadata": {},
   "outputs": [
    {
     "data": {
      "text/plain": [
       "0    25356\n",
       "1     4207\n",
       "Name: cluster, dtype: int64"
      ]
     },
     "execution_count": 60,
     "metadata": {},
     "output_type": "execute_result"
    }
   ],
   "source": [
    "teendata_std.cluster.value_counts()"
   ]
  },
  {
   "cell_type": "code",
   "execution_count": 63,
   "id": "6e855f5e",
   "metadata": {},
   "outputs": [],
   "source": [
    "centers = pd.DataFrame(model.cluster_centers_,columns=teendata_std.columns[:-1])"
   ]
  },
  {
   "cell_type": "code",
   "execution_count": 64,
   "id": "05db94cd",
   "metadata": {},
   "outputs": [
    {
     "name": "stdout",
     "output_type": "stream",
     "text": [
      "   basketball  football    soccer  softball  volleyball  swimming  \\\n",
      "0   -0.084210 -0.077422 -0.037798 -0.044305   -0.050226 -0.052065   \n",
      "1    0.506561  0.465724  0.227370  0.266515    0.302133  0.313190   \n",
      "\n",
      "   cheerleading  baseball    tennis    sports  ...    blonde      mall  \\\n",
      "0     -0.063963 -0.044441 -0.023649 -0.078769  ... -0.025856 -0.129422   \n",
      "1      0.384763  0.267334  0.142259  0.473828  ...  0.155534  0.778531   \n",
      "\n",
      "   shopping   clothes  hollister  abercrombie       die     death     drunk  \\\n",
      "0 -0.128554 -0.157873  -0.115140    -0.119274 -0.098468 -0.075580 -0.095720   \n",
      "1  0.773307  0.949672   0.692617     0.717483  0.592330  0.454644  0.575795   \n",
      "\n",
      "      drugs  \n",
      "0 -0.117493  \n",
      "1  0.706768  \n",
      "\n",
      "[2 rows x 36 columns]\n"
     ]
    }
   ],
   "source": [
    "print(centers)"
   ]
  },
  {
   "cell_type": "code",
   "execution_count": 65,
   "id": "b3f6b8c5",
   "metadata": {},
   "outputs": [
    {
     "name": "stdout",
     "output_type": "stream",
     "text": [
      "Empty DataFrame\n",
      "Columns: [cluster, center, feature]\n",
      "Index: []\n"
     ]
    }
   ],
   "source": [
    "cluster_data = pd.DataFrame(columns=['cluster','center','feature'])\n",
    "print(cluster_data)"
   ]
  },
  {
   "cell_type": "code",
   "execution_count": null,
   "id": "699d66c1",
   "metadata": {},
   "outputs": [],
   "source": []
  },
  {
   "cell_type": "code",
   "execution_count": 78,
   "id": "10ce22a5",
   "metadata": {},
   "outputs": [
    {
     "data": {
      "text/plain": [
       "2"
      ]
     },
     "execution_count": 78,
     "metadata": {},
     "output_type": "execute_result"
    }
   ],
   "source": [
    "len(np.unique(cluster))"
   ]
  },
  {
   "cell_type": "code",
   "execution_count": 81,
   "id": "20516b81",
   "metadata": {},
   "outputs": [
    {
     "name": "stdout",
     "output_type": "stream",
     "text": [
      "Empty DataFrame\n",
      "Columns: [cluster, centers, feature]\n",
      "Index: []\n",
      "   cluster   centers   feature\n",
      "0        0 -0.018456  marching\n",
      "1        0 -0.023649    tennis\n",
      "2        0 -0.025856    blonde\n",
      "3        0 -0.037798    soccer\n",
      "4        0 -0.038323     bible\n",
      "..     ...       ...       ...\n",
      "31       1  0.230528     bible\n",
      "32       1  0.227370    soccer\n",
      "33       1  0.155534    blonde\n",
      "34       1  0.142259    tennis\n",
      "35       1  0.111020  marching\n",
      "\n",
      "[72 rows x 3 columns]\n"
     ]
    }
   ],
   "source": [
    "# create a dataframe to store the score,feature and group name for each cluster\n",
    "\n",
    "cluster_data = pd.DataFrame(columns=['cluster','centers','feature'])\n",
    "print(cluster_data)\n",
    "\n",
    "for i in range(len(np.unique(cluster))):\n",
    "    cluster_data = cluster_data.append(pd.DataFrame(zip(list([centers.index[i]])*len(centers.columns), centers.iloc[i,:],centers.columns), \n",
    "             columns=['cluster','centers','feature']).sort_values('centers',ascending=False,ignore_index=True))\n",
    "\n",
    "print(cluster_data)\n"
   ]
  },
  {
   "cell_type": "code",
   "execution_count": 82,
   "id": "5f18521b",
   "metadata": {},
   "outputs": [],
   "source": [
    "\n",
    "cluster_data['category'] = ''"
   ]
  },
  {
   "cell_type": "code",
   "execution_count": 83,
   "id": "f8c47297",
   "metadata": {},
   "outputs": [
    {
     "name": "stderr",
     "output_type": "stream",
     "text": [
      "<ipython-input-83-ce156515ed7f>:16: SettingWithCopyWarning: \n",
      "A value is trying to be set on a copy of a slice from a DataFrame\n",
      "\n",
      "See the caveats in the documentation: https://pandas.pydata.org/pandas-docs/stable/user_guide/indexing.html#returning-a-view-versus-a-copy\n",
      "  cluster_data.category[cluster_data.feature==f] = cat\n"
     ]
    },
    {
     "name": "stdout",
     "output_type": "stream",
     "text": [
      "   cluster   centers   feature          category\n",
      "0        0 -0.018456  marching  Extra-Curricular\n",
      "1        0 -0.023649    tennis  Extra-Curricular\n",
      "2        0 -0.025856    blonde           Fashion\n",
      "3        0 -0.037798    soccer  Extra-Curricular\n",
      "4        0 -0.038323     bible          Religion\n",
      "..     ...       ...       ...               ...\n",
      "31       1  0.230528     bible          Religion\n",
      "32       1  0.227370    soccer  Extra-Curricular\n",
      "33       1  0.155534    blonde           Fashion\n",
      "34       1  0.142259    tennis  Extra-Curricular\n",
      "35       1  0.111020  marching  Extra-Curricular\n",
      "\n",
      "[72 rows x 4 columns]\n"
     ]
    }
   ],
   "source": [
    "# map each feature in the cluster data with the category\n",
    "for f in cluster_data.feature.unique():\n",
    "    if f in eca:\n",
    "        cat = 'Extra-Curricular'\n",
    "    elif f in romance:\n",
    "        cat = 'Romance'\n",
    "    elif f in religion:\n",
    "        cat = 'Religion'\n",
    "    elif f in fashion:\n",
    "        cat = 'Fashion'\n",
    "    elif f in asb:\n",
    "        cat = 'Anti-Social'\n",
    "    else:\n",
    "        cat = 'Unknown'\n",
    "    \n",
    "    cluster_data.category[cluster_data.feature==f] = cat\n",
    "    \n",
    "print(cluster_data)    "
   ]
  },
  {
   "cell_type": "code",
   "execution_count": 88,
   "id": "c082620f",
   "metadata": {},
   "outputs": [
    {
     "data": {
      "image/png": "[encoded data removed]",
      "text/plain": [
       "<Figure size 864x576 with 1 Axes>"
      ]
     },
     "metadata": {
      "needs_background": "light"
     },
     "output_type": "display_data"
    }
   ],
   "source": [
    "import seaborn as sns\n",
    "\n",
    "# Analyse the clusters\n",
    "def plotData(cluster,top=10):\n",
    "    df = cluster_data[['centers','cluster','feature','category']][cluster_data.cluster==cluster].head(top)\n",
    "    df = df.set_index('cluster')\n",
    "    \n",
    "    # plot the graph\n",
    "    sns.barplot(x=df.feature,y=list(range(top,0,-1)),color='green')\n",
    "    plt.title('Top {} trending features for cluster {}'.format(top,cluster))\n",
    "    \n",
    "plotData(0,20)"
   ]
  },
  {
   "cell_type": "code",
   "execution_count": 87,
   "id": "9266a758",
   "metadata": {},
   "outputs": [],
   "source": [
    "from pylab import rcParams\n",
    "rcParams['figure.figsize'] = 12,8"
   ]
  },
  {
   "cell_type": "code",
   "execution_count": null,
   "id": "7f8b70fe",
   "metadata": {},
   "outputs": [],
   "source": []
  }
 ],
 "metadata": {
  "kernelspec": {
   "display_name": "Python 3",
   "language": "python",
   "name": "python3"
  },
  "language_info": {
   "codemirror_mode": {
    "name": "ipython",
    "version": 3
   },
   "file_extension": ".py",
   "mimetype": "text/x-python",
   "name": "python",
   "nbconvert_exporter": "python",
   "pygments_lexer": "ipython3",
   "version": "3.8.8"
  }
 },
 "nbformat": 4,
 "nbformat_minor": 5
}
